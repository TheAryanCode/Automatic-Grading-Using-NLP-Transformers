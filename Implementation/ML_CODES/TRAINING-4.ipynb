{
 "cells": [
  {
   "cell_type": "code",
   "execution_count": 2,
   "metadata": {},
   "outputs": [
    {
     "name": "stdout",
     "output_type": "stream",
     "text": [
      "Best Parameters: {'learning_rate': 0.05, 'l2_leaf_reg': 1, 'iterations': 500, 'depth': 4, 'border_count': 32}\n",
      "Best Cross-Validation Score: 0.12441748577485745\n",
      "R2 Score on Test Set: 0.2895853908600263\n"
     ]
    }
   ],
   "source": [
    "import pandas as pd\n",
    "from sklearn.model_selection import train_test_split, RandomizedSearchCV\n",
    "from sklearn.preprocessing import StandardScaler\n",
    "from catboost import CatBoostRegressor\n",
    "from sklearn.metrics import r2_score\n",
    "\n",
    "# Load the data\n",
    "file_path = 'C:\\\\Users\\\\V R N S Nikhil\\\\OneDrive\\\\Desktop\\\\4th_sem\\\\ML\\\\FINAL\\\\ML\\\\Auto.xlsx'\n",
    "data = pd.read_excel(file_path)\n",
    "\n",
    "# Separate features and target\n",
    "X = data.drop('output', axis=1)\n",
    "y = data['output']\n",
    "\n",
    "# Split the data into training and testing sets\n",
    "X_train, X_test, y_train, y_test = train_test_split(X, y, test_size=0.2, random_state=42)\n",
    "\n",
    "# Normalize the feature values\n",
    "scaler = StandardScaler()\n",
    "X_train_scaled = scaler.fit_transform(X_train)\n",
    "X_test_scaled = scaler.transform(X_test)\n",
    "\n",
    "# Define the parameter grid\n",
    "param_grid = {\n",
    "    'iterations': [100, 200, 500],\n",
    "    'depth': [4, 6, 8],\n",
    "    'learning_rate': [0.01, 0.05, 0.1],\n",
    "    'l2_leaf_reg': [1, 3, 5, 7],\n",
    "    'border_count': [32, 50, 100]\n",
    "}\n",
    "\n",
    "# Initialize the CatBoost regressor\n",
    "catboost_regressor = CatBoostRegressor(silent=True, random_state=42)\n",
    "\n",
    "# Set up the randomized search with cross-validation\n",
    "random_search = RandomizedSearchCV(estimator=catboost_regressor, param_distributions=param_grid, n_iter=20, cv=3, random_state=42, n_jobs=-1)\n",
    "\n",
    "# Fit the randomized search model\n",
    "random_search.fit(X_train_scaled, y_train)\n",
    "\n",
    "# Get the best parameters and the best score\n",
    "best_params = random_search.best_params_\n",
    "best_score = random_search.best_score_\n",
    "\n",
    "print(\"Best Parameters:\", best_params)\n",
    "print(\"Best Cross-Validation Score:\", best_score)\n",
    "\n",
    "# Evaluate on the test set\n",
    "y_pred = random_search.predict(X_test_scaled)\n",
    "r2 = r2_score(y_test, y_pred)\n",
    "print(\"R2 Score on Test Set:\", r2)"
   ]
  }
 ],
 "metadata": {
  "kernelspec": {
   "display_name": "Python 3",
   "language": "python",
   "name": "python3"
  },
  "language_info": {
   "codemirror_mode": {
    "name": "ipython",
    "version": 3
   },
   "file_extension": ".py",
   "mimetype": "text/x-python",
   "name": "python",
   "nbconvert_exporter": "python",
   "pygments_lexer": "ipython3",
   "version": "3.11.4"
  }
 },
 "nbformat": 4,
 "nbformat_minor": 2
}
