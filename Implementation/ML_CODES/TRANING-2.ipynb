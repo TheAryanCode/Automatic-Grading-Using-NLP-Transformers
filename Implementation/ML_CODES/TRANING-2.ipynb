{
 "cells": [
  {
   "cell_type": "code",
   "execution_count": 39,
   "metadata": {},
   "outputs": [],
   "source": [
    "import pandas as pd\n",
    "import numpy as np\n",
    "import seaborn as sns\n",
    "import matplotlib.pyplot as plt"
   ]
  },
  {
   "cell_type": "code",
   "execution_count": null,
   "metadata": {},
   "outputs": [],
   "source": []
  },
  {
   "cell_type": "code",
   "execution_count": null,
   "metadata": {},
   "outputs": [],
   "source": []
  },
  {
   "cell_type": "code",
   "execution_count": 40,
   "metadata": {},
   "outputs": [
    {
     "data": {
      "text/html": [
       "<div>\n",
       "<style scoped>\n",
       "    .dataframe tbody tr th:only-of-type {\n",
       "        vertical-align: middle;\n",
       "    }\n",
       "\n",
       "    .dataframe tbody tr th {\n",
       "        vertical-align: top;\n",
       "    }\n",
       "\n",
       "    .dataframe thead th {\n",
       "        text-align: right;\n",
       "    }\n",
       "</style>\n",
       "<table border=\"1\" class=\"dataframe\">\n",
       "  <thead>\n",
       "    <tr style=\"text-align: right;\">\n",
       "      <th></th>\n",
       "      <th>embed_0</th>\n",
       "      <th>embed_1</th>\n",
       "      <th>embed_2</th>\n",
       "      <th>embed_3</th>\n",
       "      <th>embed_4</th>\n",
       "      <th>embed_5</th>\n",
       "      <th>embed_6</th>\n",
       "      <th>embed_7</th>\n",
       "      <th>embed_8</th>\n",
       "      <th>embed_9</th>\n",
       "      <th>...</th>\n",
       "      <th>embed_375</th>\n",
       "      <th>embed_376</th>\n",
       "      <th>embed_377</th>\n",
       "      <th>embed_378</th>\n",
       "      <th>embed_379</th>\n",
       "      <th>embed_380</th>\n",
       "      <th>embed_381</th>\n",
       "      <th>embed_382</th>\n",
       "      <th>embed_383</th>\n",
       "      <th>output</th>\n",
       "    </tr>\n",
       "  </thead>\n",
       "  <tbody>\n",
       "    <tr>\n",
       "      <th>0</th>\n",
       "      <td>0.021264</td>\n",
       "      <td>-0.062539</td>\n",
       "      <td>0.037466</td>\n",
       "      <td>0.008415</td>\n",
       "      <td>0.021944</td>\n",
       "      <td>-0.033980</td>\n",
       "      <td>-0.032459</td>\n",
       "      <td>0.016812</td>\n",
       "      <td>-0.005587</td>\n",
       "      <td>0.040213</td>\n",
       "      <td>...</td>\n",
       "      <td>0.026886</td>\n",
       "      <td>-0.009761</td>\n",
       "      <td>-0.044234</td>\n",
       "      <td>-0.036922</td>\n",
       "      <td>0.056197</td>\n",
       "      <td>-0.020517</td>\n",
       "      <td>-0.020927</td>\n",
       "      <td>0.014223</td>\n",
       "      <td>0.028633</td>\n",
       "      <td>0.0</td>\n",
       "    </tr>\n",
       "    <tr>\n",
       "      <th>1</th>\n",
       "      <td>0.118235</td>\n",
       "      <td>-0.355940</td>\n",
       "      <td>0.218491</td>\n",
       "      <td>0.049605</td>\n",
       "      <td>0.127147</td>\n",
       "      <td>-0.198309</td>\n",
       "      <td>-0.189919</td>\n",
       "      <td>0.094275</td>\n",
       "      <td>-0.027845</td>\n",
       "      <td>0.232032</td>\n",
       "      <td>...</td>\n",
       "      <td>0.143506</td>\n",
       "      <td>-0.062857</td>\n",
       "      <td>-0.250240</td>\n",
       "      <td>-0.216977</td>\n",
       "      <td>0.323362</td>\n",
       "      <td>-0.105402</td>\n",
       "      <td>-0.113169</td>\n",
       "      <td>0.079825</td>\n",
       "      <td>0.163297</td>\n",
       "      <td>0.0</td>\n",
       "    </tr>\n",
       "    <tr>\n",
       "      <th>2</th>\n",
       "      <td>0.110115</td>\n",
       "      <td>-0.332855</td>\n",
       "      <td>0.198530</td>\n",
       "      <td>0.045706</td>\n",
       "      <td>0.121383</td>\n",
       "      <td>-0.185459</td>\n",
       "      <td>-0.174967</td>\n",
       "      <td>0.090232</td>\n",
       "      <td>-0.024541</td>\n",
       "      <td>0.219142</td>\n",
       "      <td>...</td>\n",
       "      <td>0.132716</td>\n",
       "      <td>-0.058603</td>\n",
       "      <td>-0.234703</td>\n",
       "      <td>-0.202833</td>\n",
       "      <td>0.304238</td>\n",
       "      <td>-0.102211</td>\n",
       "      <td>-0.103895</td>\n",
       "      <td>0.076962</td>\n",
       "      <td>0.152439</td>\n",
       "      <td>0.0</td>\n",
       "    </tr>\n",
       "    <tr>\n",
       "      <th>3</th>\n",
       "      <td>0.107031</td>\n",
       "      <td>-0.318721</td>\n",
       "      <td>0.194099</td>\n",
       "      <td>0.043919</td>\n",
       "      <td>0.113737</td>\n",
       "      <td>-0.178247</td>\n",
       "      <td>-0.171596</td>\n",
       "      <td>0.082715</td>\n",
       "      <td>-0.025615</td>\n",
       "      <td>0.205249</td>\n",
       "      <td>...</td>\n",
       "      <td>0.128095</td>\n",
       "      <td>-0.054040</td>\n",
       "      <td>-0.223192</td>\n",
       "      <td>-0.193014</td>\n",
       "      <td>0.288106</td>\n",
       "      <td>-0.093294</td>\n",
       "      <td>-0.103034</td>\n",
       "      <td>0.071439</td>\n",
       "      <td>0.148059</td>\n",
       "      <td>0.0</td>\n",
       "    </tr>\n",
       "    <tr>\n",
       "      <th>4</th>\n",
       "      <td>0.039461</td>\n",
       "      <td>-0.120917</td>\n",
       "      <td>0.070453</td>\n",
       "      <td>0.015506</td>\n",
       "      <td>0.044520</td>\n",
       "      <td>-0.068256</td>\n",
       "      <td>-0.065418</td>\n",
       "      <td>0.033927</td>\n",
       "      <td>-0.008496</td>\n",
       "      <td>0.075821</td>\n",
       "      <td>...</td>\n",
       "      <td>0.049817</td>\n",
       "      <td>-0.020045</td>\n",
       "      <td>-0.086780</td>\n",
       "      <td>-0.071799</td>\n",
       "      <td>0.111417</td>\n",
       "      <td>-0.039462</td>\n",
       "      <td>-0.041123</td>\n",
       "      <td>0.028038</td>\n",
       "      <td>0.057403</td>\n",
       "      <td>0.0</td>\n",
       "    </tr>\n",
       "  </tbody>\n",
       "</table>\n",
       "<p>5 rows × 385 columns</p>\n",
       "</div>"
      ],
      "text/plain": [
       "    embed_0   embed_1   embed_2   embed_3   embed_4   embed_5   embed_6  \\\n",
       "0  0.021264 -0.062539  0.037466  0.008415  0.021944 -0.033980 -0.032459   \n",
       "1  0.118235 -0.355940  0.218491  0.049605  0.127147 -0.198309 -0.189919   \n",
       "2  0.110115 -0.332855  0.198530  0.045706  0.121383 -0.185459 -0.174967   \n",
       "3  0.107031 -0.318721  0.194099  0.043919  0.113737 -0.178247 -0.171596   \n",
       "4  0.039461 -0.120917  0.070453  0.015506  0.044520 -0.068256 -0.065418   \n",
       "\n",
       "    embed_7   embed_8   embed_9  ...  embed_375  embed_376  embed_377  \\\n",
       "0  0.016812 -0.005587  0.040213  ...   0.026886  -0.009761  -0.044234   \n",
       "1  0.094275 -0.027845  0.232032  ...   0.143506  -0.062857  -0.250240   \n",
       "2  0.090232 -0.024541  0.219142  ...   0.132716  -0.058603  -0.234703   \n",
       "3  0.082715 -0.025615  0.205249  ...   0.128095  -0.054040  -0.223192   \n",
       "4  0.033927 -0.008496  0.075821  ...   0.049817  -0.020045  -0.086780   \n",
       "\n",
       "   embed_378  embed_379  embed_380  embed_381  embed_382  embed_383  output  \n",
       "0  -0.036922   0.056197  -0.020517  -0.020927   0.014223   0.028633     0.0  \n",
       "1  -0.216977   0.323362  -0.105402  -0.113169   0.079825   0.163297     0.0  \n",
       "2  -0.202833   0.304238  -0.102211  -0.103895   0.076962   0.152439     0.0  \n",
       "3  -0.193014   0.288106  -0.093294  -0.103034   0.071439   0.148059     0.0  \n",
       "4  -0.071799   0.111417  -0.039462  -0.041123   0.028038   0.057403     0.0  \n",
       "\n",
       "[5 rows x 385 columns]"
      ]
     },
     "execution_count": 40,
     "metadata": {},
     "output_type": "execute_result"
    }
   ],
   "source": [
    "df=pd.read_excel('C:\\\\Users\\\\V R N S Nikhil\\\\OneDrive\\\\Desktop\\\\4th_sem\\\\ML\\\\FINAL\\\\ML\\\\Auto.xlsx')\n",
    "df.head()"
   ]
  },
  {
   "cell_type": "code",
   "execution_count": 41,
   "metadata": {},
   "outputs": [
    {
     "data": {
      "text/plain": [
       "output\n",
       "3.0    272\n",
       "4.0    262\n",
       "2.0    186\n",
       "5.0    131\n",
       "2.5     64\n",
       "1.0     62\n",
       "4.5     52\n",
       "3.5     44\n",
       "0.5     22\n",
       "1.5     19\n",
       "0.0     13\n",
       "Name: count, dtype: int64"
      ]
     },
     "execution_count": 41,
     "metadata": {},
     "output_type": "execute_result"
    }
   ],
   "source": [
    "x=df.drop('output',axis=1)\n",
    "y=df['output']\n",
    "def custom_round(value):\n",
    "    integer_part = int(value)\n",
    "    decimal_part = value - integer_part\n",
    "    if decimal_part == 0.5:\n",
    "        return value\n",
    "    else:\n",
    "        return round(value)\n",
    "\n",
    "# Apply the custom rounding function to the 'value' column\n",
    "df['output'] = df['output'].apply(custom_round)\n",
    "df['output'].value_counts()\n"
   ]
  },
  {
   "cell_type": "code",
   "execution_count": 42,
   "metadata": {},
   "outputs": [],
   "source": [
    "from sklearn.model_selection import train_test_split"
   ]
  },
  {
   "cell_type": "code",
   "execution_count": 43,
   "metadata": {},
   "outputs": [],
   "source": [
    "x_train,x_test,y_train,y_test=train_test_split(x,y,test_size=0.3,random_state=101)\n"
   ]
  },
  {
   "cell_type": "code",
   "execution_count": 44,
   "metadata": {},
   "outputs": [],
   "source": [
    "from sklearn.decomposition import KernelPCA,IncrementalPCA"
   ]
  },
  {
   "cell_type": "code",
   "execution_count": 45,
   "metadata": {},
   "outputs": [
    {
     "data": {
      "text/plain": [
       "0.999990529947589"
      ]
     },
     "execution_count": 45,
     "metadata": {},
     "output_type": "execute_result"
    }
   ],
   "source": [
    "modell=IncrementalPCA(n_components=100)\n",
    "x_train=modell.fit_transform(x_train)\n",
    "x_test=modell.transform(x_test)\n",
    "np.sum(modell.explained_variance_ratio_)"
   ]
  },
  {
   "cell_type": "code",
   "execution_count": 46,
   "metadata": {},
   "outputs": [],
   "source": [
    "from sklearn.svm import SVR"
   ]
  },
  {
   "cell_type": "code",
   "execution_count": 47,
   "metadata": {},
   "outputs": [],
   "source": [
    "base=SVR()"
   ]
  },
  {
   "cell_type": "code",
   "execution_count": 48,
   "metadata": {},
   "outputs": [],
   "source": [
    "from sklearn.preprocessing import StandardScaler"
   ]
  },
  {
   "cell_type": "code",
   "execution_count": 49,
   "metadata": {},
   "outputs": [],
   "source": [
    "std=StandardScaler()"
   ]
  },
  {
   "cell_type": "code",
   "execution_count": 50,
   "metadata": {},
   "outputs": [],
   "source": [
    "scaled_x_train=std.fit_transform(x_train)\n",
    "scaled_x_test=std.transform(x_test)"
   ]
  },
  {
   "cell_type": "code",
   "execution_count": 51,
   "metadata": {},
   "outputs": [],
   "source": [
    "from sklearn.model_selection import GridSearchCV"
   ]
  },
  {
   "cell_type": "code",
   "execution_count": 52,
   "metadata": {},
   "outputs": [],
   "source": [
    "param_grid={'C':[0.1,0.01,10],\n",
    "            'kernel':['linear','rgf','polynomial'],\n",
    "            'degree':[1,2,3],\n",
    "            'epsilon':[0.11,0.2,1,10] }"
   ]
  },
  {
   "cell_type": "code",
   "execution_count": 53,
   "metadata": {},
   "outputs": [],
   "source": [
    "gtk=GridSearchCV(base,param_grid)"
   ]
  },
  {
   "cell_type": "code",
   "execution_count": 54,
   "metadata": {},
   "outputs": [
    {
     "name": "stderr",
     "output_type": "stream",
     "text": [
      "c:\\Users\\V R N S Nikhil\\AppData\\Local\\Programs\\Python\\Python311\\Lib\\site-packages\\sklearn\\model_selection\\_validation.py:425: FitFailedWarning: \n",
      "360 fits failed out of a total of 540.\n",
      "The score on these train-test partitions for these parameters will be set to nan.\n",
      "If these failures are not expected, you can try to debug them by setting error_score='raise'.\n",
      "\n",
      "Below are more details about the failures:\n",
      "--------------------------------------------------------------------------------\n",
      "180 fits failed with the following error:\n",
      "Traceback (most recent call last):\n",
      "  File \"c:\\Users\\V R N S Nikhil\\AppData\\Local\\Programs\\Python\\Python311\\Lib\\site-packages\\sklearn\\model_selection\\_validation.py\", line 729, in _fit_and_score\n",
      "    estimator.fit(X_train, y_train, **fit_params)\n",
      "  File \"c:\\Users\\V R N S Nikhil\\AppData\\Local\\Programs\\Python\\Python311\\Lib\\site-packages\\sklearn\\base.py\", line 1145, in wrapper\n",
      "    estimator._validate_params()\n",
      "  File \"c:\\Users\\V R N S Nikhil\\AppData\\Local\\Programs\\Python\\Python311\\Lib\\site-packages\\sklearn\\base.py\", line 638, in _validate_params\n",
      "    validate_parameter_constraints(\n",
      "  File \"c:\\Users\\V R N S Nikhil\\AppData\\Local\\Programs\\Python\\Python311\\Lib\\site-packages\\sklearn\\utils\\_param_validation.py\", line 96, in validate_parameter_constraints\n",
      "    raise InvalidParameterError(\n",
      "sklearn.utils._param_validation.InvalidParameterError: The 'kernel' parameter of SVR must be a str among {'poly', 'linear', 'precomputed', 'sigmoid', 'rbf'} or a callable. Got 'rgf' instead.\n",
      "\n",
      "--------------------------------------------------------------------------------\n",
      "180 fits failed with the following error:\n",
      "Traceback (most recent call last):\n",
      "  File \"c:\\Users\\V R N S Nikhil\\AppData\\Local\\Programs\\Python\\Python311\\Lib\\site-packages\\sklearn\\model_selection\\_validation.py\", line 729, in _fit_and_score\n",
      "    estimator.fit(X_train, y_train, **fit_params)\n",
      "  File \"c:\\Users\\V R N S Nikhil\\AppData\\Local\\Programs\\Python\\Python311\\Lib\\site-packages\\sklearn\\base.py\", line 1145, in wrapper\n",
      "    estimator._validate_params()\n",
      "  File \"c:\\Users\\V R N S Nikhil\\AppData\\Local\\Programs\\Python\\Python311\\Lib\\site-packages\\sklearn\\base.py\", line 638, in _validate_params\n",
      "    validate_parameter_constraints(\n",
      "  File \"c:\\Users\\V R N S Nikhil\\AppData\\Local\\Programs\\Python\\Python311\\Lib\\site-packages\\sklearn\\utils\\_param_validation.py\", line 96, in validate_parameter_constraints\n",
      "    raise InvalidParameterError(\n",
      "sklearn.utils._param_validation.InvalidParameterError: The 'kernel' parameter of SVR must be a str among {'poly', 'linear', 'precomputed', 'sigmoid', 'rbf'} or a callable. Got 'polynomial' instead.\n",
      "\n",
      "  warnings.warn(some_fits_failed_message, FitFailedWarning)\n",
      "c:\\Users\\V R N S Nikhil\\AppData\\Local\\Programs\\Python\\Python311\\Lib\\site-packages\\sklearn\\model_selection\\_search.py:979: UserWarning: One or more of the test scores are non-finite: [ 0.01196819         nan         nan  0.05069136         nan         nan\n",
      "  0.04778401         nan         nan -0.34373066         nan         nan\n",
      "  0.01196819         nan         nan  0.05069136         nan         nan\n",
      "  0.04778401         nan         nan -0.34373066         nan         nan\n",
      "  0.01196819         nan         nan  0.05069136         nan         nan\n",
      "  0.04778401         nan         nan -0.34373066         nan         nan\n",
      "  0.1245503          nan         nan  0.13668965         nan         nan\n",
      "  0.12348549         nan         nan -0.34373066         nan         nan\n",
      "  0.1245503          nan         nan  0.13668965         nan         nan\n",
      "  0.12348549         nan         nan -0.34373066         nan         nan\n",
      "  0.1245503          nan         nan  0.13668965         nan         nan\n",
      "  0.12348549         nan         nan -0.34373066         nan         nan\n",
      " -0.00309293         nan         nan  0.03734701         nan         nan\n",
      " -0.00535727         nan         nan -0.34373066         nan         nan\n",
      " -0.00309293         nan         nan  0.03734701         nan         nan\n",
      " -0.00535727         nan         nan -0.34373066         nan         nan\n",
      " -0.00309293         nan         nan  0.03734701         nan         nan\n",
      " -0.00535727         nan         nan -0.34373066         nan         nan]\n",
      "  warnings.warn(\n"
     ]
    },
    {
     "data": {
      "text/html": [
       "<style>#sk-container-id-2 {color: black;}#sk-container-id-2 pre{padding: 0;}#sk-container-id-2 div.sk-toggleable {background-color: white;}#sk-container-id-2 label.sk-toggleable__label {cursor: pointer;display: block;width: 100%;margin-bottom: 0;padding: 0.3em;box-sizing: border-box;text-align: center;}#sk-container-id-2 label.sk-toggleable__label-arrow:before {content: \"▸\";float: left;margin-right: 0.25em;color: #696969;}#sk-container-id-2 label.sk-toggleable__label-arrow:hover:before {color: black;}#sk-container-id-2 div.sk-estimator:hover label.sk-toggleable__label-arrow:before {color: black;}#sk-container-id-2 div.sk-toggleable__content {max-height: 0;max-width: 0;overflow: hidden;text-align: left;background-color: #f0f8ff;}#sk-container-id-2 div.sk-toggleable__content pre {margin: 0.2em;color: black;border-radius: 0.25em;background-color: #f0f8ff;}#sk-container-id-2 input.sk-toggleable__control:checked~div.sk-toggleable__content {max-height: 200px;max-width: 100%;overflow: auto;}#sk-container-id-2 input.sk-toggleable__control:checked~label.sk-toggleable__label-arrow:before {content: \"▾\";}#sk-container-id-2 div.sk-estimator input.sk-toggleable__control:checked~label.sk-toggleable__label {background-color: #d4ebff;}#sk-container-id-2 div.sk-label input.sk-toggleable__control:checked~label.sk-toggleable__label {background-color: #d4ebff;}#sk-container-id-2 input.sk-hidden--visually {border: 0;clip: rect(1px 1px 1px 1px);clip: rect(1px, 1px, 1px, 1px);height: 1px;margin: -1px;overflow: hidden;padding: 0;position: absolute;width: 1px;}#sk-container-id-2 div.sk-estimator {font-family: monospace;background-color: #f0f8ff;border: 1px dotted black;border-radius: 0.25em;box-sizing: border-box;margin-bottom: 0.5em;}#sk-container-id-2 div.sk-estimator:hover {background-color: #d4ebff;}#sk-container-id-2 div.sk-parallel-item::after {content: \"\";width: 100%;border-bottom: 1px solid gray;flex-grow: 1;}#sk-container-id-2 div.sk-label:hover label.sk-toggleable__label {background-color: #d4ebff;}#sk-container-id-2 div.sk-serial::before {content: \"\";position: absolute;border-left: 1px solid gray;box-sizing: border-box;top: 0;bottom: 0;left: 50%;z-index: 0;}#sk-container-id-2 div.sk-serial {display: flex;flex-direction: column;align-items: center;background-color: white;padding-right: 0.2em;padding-left: 0.2em;position: relative;}#sk-container-id-2 div.sk-item {position: relative;z-index: 1;}#sk-container-id-2 div.sk-parallel {display: flex;align-items: stretch;justify-content: center;background-color: white;position: relative;}#sk-container-id-2 div.sk-item::before, #sk-container-id-2 div.sk-parallel-item::before {content: \"\";position: absolute;border-left: 1px solid gray;box-sizing: border-box;top: 0;bottom: 0;left: 50%;z-index: -1;}#sk-container-id-2 div.sk-parallel-item {display: flex;flex-direction: column;z-index: 1;position: relative;background-color: white;}#sk-container-id-2 div.sk-parallel-item:first-child::after {align-self: flex-end;width: 50%;}#sk-container-id-2 div.sk-parallel-item:last-child::after {align-self: flex-start;width: 50%;}#sk-container-id-2 div.sk-parallel-item:only-child::after {width: 0;}#sk-container-id-2 div.sk-dashed-wrapped {border: 1px dashed gray;margin: 0 0.4em 0.5em 0.4em;box-sizing: border-box;padding-bottom: 0.4em;background-color: white;}#sk-container-id-2 div.sk-label label {font-family: monospace;font-weight: bold;display: inline-block;line-height: 1.2em;}#sk-container-id-2 div.sk-label-container {text-align: center;}#sk-container-id-2 div.sk-container {/* jupyter's `normalize.less` sets `[hidden] { display: none; }` but bootstrap.min.css set `[hidden] { display: none !important; }` so we also need the `!important` here to be able to override the default hidden behavior on the sphinx rendered scikit-learn.org. See: https://github.com/scikit-learn/scikit-learn/issues/21755 */display: inline-block !important;position: relative;}#sk-container-id-2 div.sk-text-repr-fallback {display: none;}</style><div id=\"sk-container-id-2\" class=\"sk-top-container\"><div class=\"sk-text-repr-fallback\"><pre>GridSearchCV(estimator=SVR(),\n",
       "             param_grid={&#x27;C&#x27;: [0.1, 0.01, 10], &#x27;degree&#x27;: [1, 2, 3],\n",
       "                         &#x27;epsilon&#x27;: [0.11, 0.2, 1, 10],\n",
       "                         &#x27;kernel&#x27;: [&#x27;linear&#x27;, &#x27;rgf&#x27;, &#x27;polynomial&#x27;]})</pre><b>In a Jupyter environment, please rerun this cell to show the HTML representation or trust the notebook. <br />On GitHub, the HTML representation is unable to render, please try loading this page with nbviewer.org.</b></div><div class=\"sk-container\" hidden><div class=\"sk-item sk-dashed-wrapped\"><div class=\"sk-label-container\"><div class=\"sk-label sk-toggleable\"><input class=\"sk-toggleable__control sk-hidden--visually\" id=\"sk-estimator-id-4\" type=\"checkbox\" ><label for=\"sk-estimator-id-4\" class=\"sk-toggleable__label sk-toggleable__label-arrow\">GridSearchCV</label><div class=\"sk-toggleable__content\"><pre>GridSearchCV(estimator=SVR(),\n",
       "             param_grid={&#x27;C&#x27;: [0.1, 0.01, 10], &#x27;degree&#x27;: [1, 2, 3],\n",
       "                         &#x27;epsilon&#x27;: [0.11, 0.2, 1, 10],\n",
       "                         &#x27;kernel&#x27;: [&#x27;linear&#x27;, &#x27;rgf&#x27;, &#x27;polynomial&#x27;]})</pre></div></div></div><div class=\"sk-parallel\"><div class=\"sk-parallel-item\"><div class=\"sk-item\"><div class=\"sk-label-container\"><div class=\"sk-label sk-toggleable\"><input class=\"sk-toggleable__control sk-hidden--visually\" id=\"sk-estimator-id-5\" type=\"checkbox\" ><label for=\"sk-estimator-id-5\" class=\"sk-toggleable__label sk-toggleable__label-arrow\">estimator: SVR</label><div class=\"sk-toggleable__content\"><pre>SVR()</pre></div></div></div><div class=\"sk-serial\"><div class=\"sk-item\"><div class=\"sk-estimator sk-toggleable\"><input class=\"sk-toggleable__control sk-hidden--visually\" id=\"sk-estimator-id-6\" type=\"checkbox\" ><label for=\"sk-estimator-id-6\" class=\"sk-toggleable__label sk-toggleable__label-arrow\">SVR</label><div class=\"sk-toggleable__content\"><pre>SVR()</pre></div></div></div></div></div></div></div></div></div></div>"
      ],
      "text/plain": [
       "GridSearchCV(estimator=SVR(),\n",
       "             param_grid={'C': [0.1, 0.01, 10], 'degree': [1, 2, 3],\n",
       "                         'epsilon': [0.11, 0.2, 1, 10],\n",
       "                         'kernel': ['linear', 'rgf', 'polynomial']})"
      ]
     },
     "execution_count": 54,
     "metadata": {},
     "output_type": "execute_result"
    }
   ],
   "source": [
    "gtk.fit(scaled_x_train,y_train)"
   ]
  },
  {
   "cell_type": "code",
   "execution_count": 55,
   "metadata": {},
   "outputs": [
    {
     "data": {
      "text/plain": [
       "{'C': 0.01, 'degree': 1, 'epsilon': 0.2, 'kernel': 'linear'}"
      ]
     },
     "execution_count": 55,
     "metadata": {},
     "output_type": "execute_result"
    }
   ],
   "source": [
    "gtk.best_params_"
   ]
  },
  {
   "cell_type": "code",
   "execution_count": 56,
   "metadata": {},
   "outputs": [],
   "source": [
    "test=gtk.predict(scaled_x_test)"
   ]
  },
  {
   "cell_type": "code",
   "execution_count": 57,
   "metadata": {},
   "outputs": [],
   "source": [
    "from sklearn.metrics import r2_score,mean_squared_error"
   ]
  },
  {
   "cell_type": "code",
   "execution_count": 58,
   "metadata": {},
   "outputs": [
    {
     "data": {
      "text/plain": [
       "0.2093405045300919"
      ]
     },
     "execution_count": 58,
     "metadata": {},
     "output_type": "execute_result"
    }
   ],
   "source": [
    "r2_score(y_test,test)"
   ]
  },
  {
   "cell_type": "code",
   "execution_count": 59,
   "metadata": {},
   "outputs": [
    {
     "data": {
      "text/plain": [
       "1.0779230211662718"
      ]
     },
     "execution_count": 59,
     "metadata": {},
     "output_type": "execute_result"
    }
   ],
   "source": [
    "np.sqrt(mean_squared_error(y_test,test))"
   ]
  },
  {
   "cell_type": "code",
   "execution_count": null,
   "metadata": {},
   "outputs": [],
   "source": []
  }
 ],
 "metadata": {
  "kernelspec": {
   "display_name": "base",
   "language": "python",
   "name": "python3"
  },
  "language_info": {
   "codemirror_mode": {
    "name": "ipython",
    "version": 3
   },
   "file_extension": ".py",
   "mimetype": "text/x-python",
   "name": "python",
   "nbconvert_exporter": "python",
   "pygments_lexer": "ipython3",
   "version": "3.11.4"
  }
 },
 "nbformat": 4,
 "nbformat_minor": 2
}
