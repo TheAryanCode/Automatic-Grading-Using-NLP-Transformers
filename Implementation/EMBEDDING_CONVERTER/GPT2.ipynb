{
 "cells": [
  {
   "cell_type": "code",
   "execution_count": null,
   "metadata": {},
   "outputs": [],
   "source": [
    "import pandas as pd\n",
    "from transformers import GPT2Tokenizer, GPT2Model\n",
    "from sentence_transformers import SentenceTransformer\n",
    "\n",
    "# Read training data\n",
    "training_data = pd.read_excel(\"/content/testing.xlsx\")\n",
    "\n",
    "# Initialize GPT-2 tokenizer and model\n",
    "tokenizer = GPT2Tokenizer.from_pretrained('gpt2', output_hidden_states=True)\n",
    "model = GPT2Model.from_pretrained(\"gpt2\")\n",
    "\n",
    "# Initialize sentence transformer model\n",
    "sentence_model = SentenceTransformer(\"paraphrase-MiniLM-L6-v2\")\n",
    "\n",
    "# Preprocess 'Equation' column\n",
    "training_data['Equation'] = training_data['Equation'].str.replace('\\n', ' ')\n",
    "training_data['Equation'] = training_data['Equation'].fillna('')\n",
    "\n",
    "# Tokenize and get embeddings for equations\n",
    "training_data['embeddings'] = training_data['Equation'].apply(lambda x: sentence_model.encode(x) if x != '' else None)\n",
    "training_data = training_data.dropna(subset=['embeddings'])\n",
    "\n",
    "# Create a DataFrame from the embeddings\n",
    "math1 = pd.DataFrame(training_data['embeddings'].tolist(), index=training_data.index).add_prefix('embed_')\n",
    "\n",
    "# Add the 'output' column\n",
    "math1['output'] = training_data['output'].values\n",
    "\n",
    "# Save the results to an Excel file\n",
    "training_output_file = \"testing_gpt2_reordered.xlsx\"\n",
    "math1.to_excel(training_output_file, index=False)\n",
    "print(math1)"
   ]
  }
 ],
 "metadata": {
  "language_info": {
   "name": "python"
  }
 },
 "nbformat": 4,
 "nbformat_minor": 2
}
